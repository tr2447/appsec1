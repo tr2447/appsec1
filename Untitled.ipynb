{
 "cells": [
  {
   "cell_type": "code",
   "execution_count": 1,
   "id": "f039e73e",
   "metadata": {},
   "outputs": [],
   "source": [
    "import struct\n",
    "import sys\n",
    "\n",
    "# We build the content of the file in a byte string first\n",
    "# This lets us calculate the length for the header at the end\n",
    "data = b''\n",
    "data += b\"GiftCardz.com\".ljust(32, b' ') # Merchant ID\n",
    "data += b\"B\"*32 # Customer ID\n",
    "data += struct.pack(\"<I\", 1) # One record\n",
    "# Record of type message\n",
    "data += struct.pack(\"<I\", 8 + 33)       # Record size: 4 bytes size, 4 bytes type, 32 bytes message\n",
    "data += struct.pack(\"<I\", 2)            # Record type\n",
    "data += b\"x\"*31 + b'\\0'                 # Note: 32 byte message\n",
    "\n",
    "f = open('crash1.gft', 'wb')\n",
    "datalen = len(data) + 4 # Plus 4 bytes for the length itself\n",
    "f.write(struct.pack(\"<I\", 4000000000))\n",
    "f.write(data)\n",
    "f.close()\n",
    "\n"
   ]
  },
  {
   "cell_type": "code",
   "execution_count": 2,
   "id": "70278425",
   "metadata": {},
   "outputs": [],
   "source": [
    "import struct\n",
    "import sys\n",
    "\n",
    "# We build the content of the file in a byte string first\n",
    "# This lets us calculate the length for the header at the end\n",
    "data = b''\n",
    "data += b\"A\"*32 # Merchant ID\n",
    "data += b\"B\"*32 # Customer ID\n",
    "data += struct.pack(\"<I\", 1) # One record\n",
    "# Record of type animation\n",
    "data += struct.pack(\"<I\", 8 + 32 + 256) # Record size (4 bytes)\n",
    "data += struct.pack(\"<I\", 3)            # Record type (4 bytes)\n",
    "data += b\"A\"*31 + b'\\x00'               # Note: 32 byte message\n",
    "data += b'\\x09\\xfd' * 256\n",
    "#data += b'\\x08' * 256                   # Program made entirely of \"end program\" (256 bytes)\n",
    "\n",
    "f = open('hang.gft', 'wb')\n",
    "datalen = len(data) + 4 # Plus 4 bytes for the length itself\n",
    "f.write(struct.pack(\"<I\", datalen))\n",
    "f.write(data)\n",
    "f.close()"
   ]
  },
  {
   "cell_type": "code",
   "execution_count": 3,
   "id": "80c2751a",
   "metadata": {},
   "outputs": [],
   "source": [
    "import struct\n",
    "import sys\n",
    "\n",
    "# We build the content of the file in a byte string first\n",
    "# This lets us calculate the length for the header at the end\n",
    "data = b''\n",
    "data += b\"A\"*32 # Merchant ID\n",
    "data += b\"B\"*32 # Customer ID\n",
    "data += struct.pack(\"<I\", 1) # One record\n",
    "# Record of type animation\n",
    "data += struct.pack(\"<I\", 8 + 32 + 256) # Record size (4 bytes)\n",
    "data += struct.pack(\"<I\", 3)            # Record type (4 bytes)\n",
    "data += b\"A\"*31 + b'\\x00'               # Note: 32 byte message\n",
    "data += b'\\x01\\x2f' * 256\n",
    "#data += b'\\x08' * 256                   # Program made entirely of \"end program\" (256 bytes)\n",
    "\n",
    "f = open('crash_2.gft', 'wb')\n",
    "datalen = len(data) + 4 # Plus 4 bytes for the length itself\n",
    "f.write(struct.pack(\"<I\", datalen))\n",
    "f.write(data)\n",
    "f.close()\n"
   ]
  },
  {
   "cell_type": "code",
   "execution_count": null,
   "id": "dfa3b2c3",
   "metadata": {},
   "outputs": [],
   "source": []
  }
 ],
 "metadata": {
  "kernelspec": {
   "display_name": "Python 3 (ipykernel)",
   "language": "python",
   "name": "python3"
  },
  "language_info": {
   "codemirror_mode": {
    "name": "ipython",
    "version": 3
   },
   "file_extension": ".py",
   "mimetype": "text/x-python",
   "name": "python",
   "nbconvert_exporter": "python",
   "pygments_lexer": "ipython3",
   "version": "3.9.7"
  }
 },
 "nbformat": 4,
 "nbformat_minor": 5
}
